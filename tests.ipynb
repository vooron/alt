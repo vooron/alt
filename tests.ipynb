{
 "cells": [
  {
   "cell_type": "code",
   "execution_count": 2,
   "metadata": {
    "collapsed": true
   },
   "outputs": [],
   "source": [
    "import json\n",
    "from typing import List\n",
    "\n",
    "import numpy as np\n",
    "import pandas as pd\n",
    "import spacy\n",
    "from Levenshtein import distance\n",
    "\n",
    "from text_to_command.indexer import Indexer"
   ]
  },
  {
   "cell_type": "code",
   "execution_count": 3,
   "outputs": [],
   "source": [
    "with open(\"test_index_data.json\") as f:\n",
    "    data = json.load(f)\n",
    "\n",
    "config_ids = list(data.keys())"
   ],
   "metadata": {
    "collapsed": false,
    "pycharm": {
     "name": "#%%\n"
    }
   }
  },
  {
   "cell_type": "code",
   "execution_count": 4,
   "outputs": [],
   "source": [
    "# python3 -m spacy download en_core_web_md\n",
    "indexer = Indexer(spacy.load(\"en_core_web_md\"))"
   ],
   "metadata": {
    "collapsed": false,
    "pycharm": {
     "name": "#%%\n"
    }
   }
  },
  {
   "cell_type": "code",
   "execution_count": 60,
   "outputs": [],
   "source": [
    "skill_score_weight = 0.2\n",
    "\n",
    "query = indexer.clear_string(\"Is there any messengers?\")\n",
    "query_embedding = indexer.get_embedding(query)\n",
    "assert query_embedding is not None"
   ],
   "metadata": {
    "collapsed": false,
    "pycharm": {
     "name": "#%%\n"
    }
   }
  },
  {
   "cell_type": "code",
   "execution_count": 61,
   "outputs": [],
   "source": [
    "exact_data = []\n",
    "\n",
    "for config_id in config_ids:\n",
    "    exact_data.extend([\n",
    "        dict(zip((\"id\", \"weight\", \"variants\"), (config_id, *weighed_pair)))\n",
    "        for weighed_pair in data[config_id]['exact']\n",
    "    ])\n",
    "\n",
    "exact_df = pd.DataFrame(exact_data)"
   ],
   "metadata": {
    "collapsed": false,
    "pycharm": {
     "name": "#%%\n"
    }
   }
  },
  {
   "cell_type": "code",
   "execution_count": 62,
   "outputs": [],
   "source": [
    "def calculate_exact_similarity(query: str):\n",
    "    def internal(variants: List[str]):\n",
    "        similarity_score = 0\n",
    "        for variant in variants:\n",
    "            candidate_score = 1 - distance(query, variant) / max(len(query), len(variant))\n",
    "            if candidate_score > similarity_score:\n",
    "                similarity_score = candidate_score\n",
    "        return similarity_score\n",
    "    return internal"
   ],
   "metadata": {
    "collapsed": false,
    "pycharm": {
     "name": "#%%\n"
    }
   }
  },
  {
   "cell_type": "code",
   "execution_count": 63,
   "outputs": [],
   "source": [
    "exact_df['similarity'] = exact_df['variants'].map(calculate_exact_similarity(query))"
   ],
   "metadata": {
    "collapsed": false,
    "pycharm": {
     "name": "#%%\n"
    }
   }
  },
  {
   "cell_type": "code",
   "execution_count": 64,
   "outputs": [],
   "source": [
    "embedding_data = []\n",
    "\n",
    "for config_id in config_ids:\n",
    "    embedding_data.extend([\n",
    "        dict(zip((\"id\", \"weight\", \"embedding\"), (config_id, *weighed_pair)))\n",
    "        for weighed_pair in data[config_id]['embeddings']\n",
    "    ])\n",
    "\n",
    "embedding_df = pd.DataFrame(embedding_data)"
   ],
   "metadata": {
    "collapsed": false,
    "pycharm": {
     "name": "#%%\n"
    }
   }
  },
  {
   "cell_type": "code",
   "execution_count": 65,
   "outputs": [],
   "source": [
    "def calculate_embedding_similarity(query_embedding: np.array):\n",
    "    def internal(embedding: list):\n",
    "        np_embedding = np.array(embedding)\n",
    "        return max(\n",
    "            0,\n",
    "            np.dot(query_embedding, np_embedding) / (np.linalg.norm(query_embedding) * np.linalg.norm(np_embedding))\n",
    "        )\n",
    "\n",
    "    return internal"
   ],
   "metadata": {
    "collapsed": false,
    "pycharm": {
     "name": "#%%\n"
    }
   }
  },
  {
   "cell_type": "code",
   "execution_count": 66,
   "outputs": [],
   "source": [
    "embedding_df['similarity'] = embedding_df['embedding'].map(calculate_embedding_similarity(query_embedding))"
   ],
   "metadata": {
    "collapsed": false,
    "pycharm": {
     "name": "#%%\n"
    }
   }
  },
  {
   "cell_type": "code",
   "execution_count": 67,
   "outputs": [],
   "source": [
    "common_columns = ['id', 'weight', 'similarity']\n",
    "common_df = pd.concat([\n",
    "    exact_df[common_columns],\n",
    "    embedding_df[common_columns]\n",
    "], ignore_index=True)"
   ],
   "metadata": {
    "collapsed": false,
    "pycharm": {
     "name": "#%%\n"
    }
   }
  },
  {
   "cell_type": "code",
   "execution_count": 68,
   "outputs": [],
   "source": [
    "common_df['weighted_similarity'] = common_df['weight'] * common_df['similarity']\n",
    "grouped = common_df.groupby(\"id\")['weighted_similarity'].sum()"
   ],
   "metadata": {
    "collapsed": false,
    "pycharm": {
     "name": "#%%\n"
    }
   }
  },
  {
   "cell_type": "code",
   "execution_count": 69,
   "outputs": [],
   "source": [
    "calculated_dict = grouped.to_dict()\n",
    "\n",
    "# correct weights to take skill for function score calculation\n",
    "for key, similarity in calculated_dict.items():\n",
    "    if \".\" in key:\n",
    "        skill_id, function_id = key.split(\".\")\n",
    "        calculated_dict[key] = skill_score_weight * calculated_dict[skill_id] + (1 - skill_score_weight) * calculated_dict[key]"
   ],
   "metadata": {
    "collapsed": false,
    "pycharm": {
     "name": "#%%\n"
    }
   }
  },
  {
   "cell_type": "code",
   "execution_count": 70,
   "outputs": [
    {
     "name": "stdout",
     "output_type": "stream",
     "text": [
      "telegram.unread_messages 0.5649771574149363\n",
      "telegram.send_message 0.5231825345644661\n",
      "calendar.list 0.4787061854854008\n",
      "timer.start_new 0.4648475555761865\n",
      "timer.list 0.46406250862207543\n"
     ]
    }
   ],
   "source": [
    "for key, similarity in sorted(calculated_dict.items(), key=lambda x: x[1], reverse=True)[:5]:\n",
    "    print(key, similarity)"
   ],
   "metadata": {
    "collapsed": false,
    "pycharm": {
     "name": "#%%\n"
    }
   }
  },
  {
   "cell_type": "code",
   "execution_count": null,
   "outputs": [],
   "source": [],
   "metadata": {
    "collapsed": false,
    "pycharm": {
     "name": "#%%\n"
    }
   }
  },
  {
   "cell_type": "code",
   "execution_count": null,
   "outputs": [],
   "source": [],
   "metadata": {
    "collapsed": false,
    "pycharm": {
     "name": "#%%\n"
    }
   }
  },
  {
   "cell_type": "code",
   "execution_count": null,
   "outputs": [],
   "source": [],
   "metadata": {
    "collapsed": false,
    "pycharm": {
     "name": "#%%\n"
    }
   }
  },
  {
   "cell_type": "code",
   "execution_count": null,
   "outputs": [],
   "source": [],
   "metadata": {
    "collapsed": false,
    "pycharm": {
     "name": "#%%\n"
    }
   }
  },
  {
   "cell_type": "code",
   "execution_count": 1,
   "outputs": [],
   "source": [],
   "metadata": {
    "collapsed": false,
    "pycharm": {
     "name": "#%%\n"
    }
   }
  },
  {
   "cell_type": "code",
   "execution_count": null,
   "outputs": [],
   "source": [],
   "metadata": {
    "collapsed": false,
    "pycharm": {
     "name": "#%%\n"
    }
   }
  }
 ],
 "metadata": {
  "kernelspec": {
   "display_name": "Python 3",
   "language": "python",
   "name": "python3"
  },
  "language_info": {
   "codemirror_mode": {
    "name": "ipython",
    "version": 2
   },
   "file_extension": ".py",
   "mimetype": "text/x-python",
   "name": "python",
   "nbconvert_exporter": "python",
   "pygments_lexer": "ipython2",
   "version": "2.7.6"
  }
 },
 "nbformat": 4,
 "nbformat_minor": 0
}