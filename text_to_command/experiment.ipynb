{
 "cells": [
  {
   "cell_type": "code",
   "execution_count": 1,
   "metadata": {
    "collapsed": true
   },
   "outputs": [],
   "source": [
    "import spacy\n",
    "\n",
    "from main import apps_config_factory\n",
    "from text_to_command.configuration_units import SystemConfiguration, SessionConfiguration\n",
    "from text_to_command.indexer import Indexer\n",
    "from text_to_command.intent_resolver import IntentResolver"
   ]
  },
  {
   "cell_type": "code",
   "execution_count": 2,
   "outputs": [],
   "source": [
    "indexer = Indexer(spacy.load(\"en_core_web_md\"))"
   ],
   "metadata": {
    "collapsed": false,
    "pycharm": {
     "name": "#%%\n"
    }
   }
  },
  {
   "cell_type": "code",
   "execution_count": 8,
   "outputs": [
    {
     "name": "stdout",
     "output_type": "stream",
     "text": [
      "0.838  |  SkillFunctionCommand(id=pc_system.Set sound level, distribution=f[0.8116221, 0.82641596, 0.6658929], params={'value': 50})\n",
      "0.765  |  SkillFunctionCommand(id=pc_system.Sound up, distribution=f[0.6684831, 0.89088625, 0.7350132], params={'value': 50})\n",
      "0.733  |  SkillFunctionCommand(id=pc_system.Sound down, distribution=f[0.6307921, 0.85796624, 0.71164715], params={'value': 50})\n",
      "0.691  |  SkillFunctionCommand(id=pc_system.Set brightness level, distribution=f[0.6462962, 0.5294598, 0.49824846], params={'value': 50})\n",
      "0.604  |  SkillFunctionCommand(id=pc_system.Mute sound, distribution=f[0.50266516, 0.7834334, 0.52677226], params={})\n",
      "0.504  |  SkillFunctionCommand(id=alarm_clock.Start alarm clock, distribution=f[0.5218993, 0.51590365, 0.4750055], params={})\n",
      "0.482  |  SkillFunctionCommand(id=pc_system.Brightness up, distribution=f[0.45371842, 0.48302445, 0.50855076], params={'value': 50})\n",
      "0.469  |  SkillFunctionCommand(id=alarm_clock.Show nearest alarm, distribution=f[0.45261478, 0.46236888, 0.49252766], params={})\n"
     ]
    }
   ],
   "source": [
    "# query = \"Send Ann a message 'Buy some potato' with Telegram\"\n",
    "query = \"Set sound to 50%\"\n",
    "# query = \"Sound up\"\n",
    "# query = \"Increase brightness on 10\"  # problems!\n",
    "\n",
    "intent_resolver = IntentResolver(indexer)\n",
    "commands = intent_resolver.resolve_intent_recommendations(\n",
    "    query,\n",
    "    apps_config_factory(),\n",
    "    SystemConfiguration([]), SessionConfiguration(\"\", [])\n",
    ")\n",
    "\n",
    "for c in sorted(commands, key=lambda x: x.score, reverse=True)[:8]:\n",
    "    print(round(c.score, 3), \" | \", c)"
   ],
   "metadata": {
    "collapsed": false,
    "pycharm": {
     "name": "#%%\n"
    }
   }
  },
  {
   "cell_type": "code",
   "execution_count": 8,
   "outputs": [],
   "source": [],
   "metadata": {
    "collapsed": false,
    "pycharm": {
     "name": "#%%\n"
    }
   }
  },
  {
   "cell_type": "code",
   "execution_count": null,
   "outputs": [],
   "source": [],
   "metadata": {
    "collapsed": false,
    "pycharm": {
     "name": "#%%\n"
    }
   }
  }
 ],
 "metadata": {
  "kernelspec": {
   "display_name": "Python 3",
   "language": "python",
   "name": "python3"
  },
  "language_info": {
   "codemirror_mode": {
    "name": "ipython",
    "version": 2
   },
   "file_extension": ".py",
   "mimetype": "text/x-python",
   "name": "python",
   "nbconvert_exporter": "python",
   "pygments_lexer": "ipython2",
   "version": "2.7.6"
  }
 },
 "nbformat": 4,
 "nbformat_minor": 0
}