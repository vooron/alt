{
 "cells": [
  {
   "cell_type": "code",
   "execution_count": 1,
   "metadata": {
    "collapsed": true
   },
   "outputs": [],
   "source": [
    "import re\n",
    "from typing import Any, List, Union, Tuple\n",
    "\n",
    "from collections import defaultdict\n",
    "\n",
    "import numpy as np\n",
    "import spacy\n",
    "\n",
    "from text_to_command.profiler import Profiler\n",
    "\n",
    "\n",
    "from text_to_command.entities import AppsConfiguration, SystemConfiguration, SessionConfiguration, Function, \\\n",
    "    FunctionIndex, IndexedData, Application, ApplicationIndex\n",
    "from text_to_command.main import apps_config_factory"
   ]
  },
  {
   "cell_type": "code",
   "execution_count": 2,
   "outputs": [],
   "source": [
    "from text_to_command.profiler import Profiler\n",
    "class Indexer:\n",
    "    word_2_vec_mapper: Any  # spacy.lang.en.English for now\n",
    "\n",
    "    def __init__(self, word_2_vec_mapper: Any):\n",
    "        self.word_2_vec_mapper = word_2_vec_mapper\n",
    "\n",
    "    @staticmethod\n",
    "    def clear_string(data: str) -> str:\n",
    "        lc_cleared = data.lower()\n",
    "        lc_cleared = re.sub(r\"[.,?/()\\[\\]\\'\\\"]\", \" \", lc_cleared)\n",
    "        lc_cleared = re.sub(r\"\\s+\", \" \", lc_cleared)\n",
    "        return lc_cleared.strip()\n",
    "\n",
    "    def get_index_function_data(self, function: Function):\n",
    "        cleared_lc_name = self.clear_string(function.name)\n",
    "        cleared_lc_description = self.clear_string(function.description)\n",
    "\n",
    "        cleared_lc_call_examples = [\n",
    "            self.clear_string(call_example) for call_example in function.call_examples]\n",
    "\n",
    "        return FunctionIndex(\n",
    "            name_index=IndexedData(\n",
    "                cleared_lc=cleared_lc_name,\n",
    "                general_vector=self.word_2_vec_mapper(cleared_lc_name).vector\n",
    "            ),\n",
    "            description_index=IndexedData(\n",
    "                cleared_lc=cleared_lc_description,\n",
    "                general_vector=self.word_2_vec_mapper(cleared_lc_description).vector\n",
    "            ),\n",
    "            call_examples_index=[IndexedData(\n",
    "                cleared_lc=call_example,\n",
    "                general_vector=self.word_2_vec_mapper(call_example).vector\n",
    "            ) for call_example in cleared_lc_call_examples]\n",
    "        )\n",
    "\n",
    "    def get_index_application_data(self, application: Application):\n",
    "        cleared_lc_name = self.clear_string(application.name)\n",
    "        cleared_lc_description = self.clear_string(application.description)\n",
    "\n",
    "        cleared_lc_tags = [\n",
    "            self.clear_string(tag) for tag in application.tags]\n",
    "\n",
    "        return ApplicationIndex(\n",
    "            name_index=IndexedData(\n",
    "                cleared_lc=cleared_lc_name,\n",
    "                general_vector=self.word_2_vec_mapper(cleared_lc_name).vector\n",
    "            ),\n",
    "            description_index=IndexedData(\n",
    "                cleared_lc=cleared_lc_description,\n",
    "                general_vector=self.word_2_vec_mapper(cleared_lc_description).vector\n",
    "            ),\n",
    "            tags_index=[IndexedData(\n",
    "                cleared_lc=tag,\n",
    "                general_vector=self.word_2_vec_mapper(tag).vector\n",
    "            ) for tag in cleared_lc_tags]\n",
    "        )\n",
    "\n",
    "    def ensure_indexed(self, configuration_entries: List[Union[Function, Application]]):\n",
    "        for configuration_entry in configuration_entries:\n",
    "\n",
    "            if isinstance(configuration_entry, Function):\n",
    "                if not configuration_entry.indexed_data:\n",
    "                    configuration_entry.indexed_data = self.get_index_function_data(configuration_entry)\n",
    "            elif isinstance(configuration_entry, Application):\n",
    "                if not configuration_entry.indexed_data:\n",
    "                    configuration_entry.indexed_data = self.get_index_application_data(configuration_entry)\n",
    "                self.ensure_indexed(configuration_entry.functions)"
   ],
   "metadata": {
    "collapsed": false,
    "pycharm": {
     "name": "#%%\n"
    }
   }
  },
  {
   "cell_type": "code",
   "execution_count": 3,
   "outputs": [],
   "source": [
    "indexer = Indexer(spacy.load(\"en_core_web_md\"))"
   ],
   "metadata": {
    "collapsed": false,
    "pycharm": {
     "name": "#%%\n"
    }
   }
  },
  {
   "cell_type": "code",
   "execution_count": 8,
   "outputs": [],
   "source": [
    "profiler = Profiler()"
   ],
   "metadata": {
    "collapsed": false,
    "pycharm": {
     "name": "#%%\n"
    }
   }
  },
  {
   "cell_type": "code",
   "execution_count": 9,
   "outputs": [],
   "source": [
    "class IntentResolver:  # recommendation system\n",
    "\n",
    "    indexer: Indexer\n",
    "\n",
    "    _min_query_ngram_size = 1\n",
    "    _max_query_ngram_size = 3\n",
    "\n",
    "    def __init__(self, indexer: Indexer):\n",
    "        self.indexer = indexer\n",
    "\n",
    "    @staticmethod\n",
    "    @profiler.profile(\"default\")\n",
    "    def _spawn_variants(indices: List[int], min_size: int, max_size: int) -> List[Tuple[int, int]]:\n",
    "        result = []\n",
    "        for size in range(min_size, max_size + 1):\n",
    "            for i in range(len(indices) - size + 1):\n",
    "                result.append(\n",
    "                    (indices[i], indices[i + size - 1])\n",
    "                )\n",
    "        return result\n",
    "\n",
    "    @staticmethod\n",
    "    @profiler.profile(\"default\")\n",
    "    def get_candidates_vectors(apps_configuration: AppsConfiguration, *other_configs) -> List[Tuple[str, np.array]]:\n",
    "        candidates_vectors = []\n",
    "        for app in apps_configuration.applications:\n",
    "            candidates_vectors.append((app.get_identifier(), app.indexed_data.name_index.general_vector))\n",
    "            candidates_vectors.append((app.get_identifier(), app.indexed_data.description_index.general_vector))\n",
    "            candidates_vectors.extend([(app.get_identifier(), t.general_vector) for t in app.indexed_data.tags_index])\n",
    "\n",
    "            for function in app.functions:\n",
    "                candidates_vectors.append((function.get_identifier(), function.indexed_data.name_index.general_vector))\n",
    "                candidates_vectors.append(\n",
    "                    (function.get_identifier(), function.indexed_data.description_index.general_vector))\n",
    "                candidates_vectors.extend(\n",
    "                    [(function.get_identifier(), ce.general_vector) for ce in function.indexed_data.call_examples_index]\n",
    "                )\n",
    "\n",
    "        return candidates_vectors\n",
    "\n",
    "    @staticmethod\n",
    "    @profiler.profile(\"default\")\n",
    "    def pairwise_cosine_similarity(f_vector, s_vector):\n",
    "        return np.sum((f_vector * s_vector), axis=1) / (np.linalg.norm(f_vector, axis=1)*np.linalg.norm(s_vector, axis=1))\n",
    "\n",
    "    @staticmethod\n",
    "    @profiler.profile(\"default\")\n",
    "    def get_cartesian_product(\n",
    "            query_tokens_parts: List[Tuple[Tuple[int, int], np.array]],\n",
    "            candidates_vectors: List[Tuple[str, np.array]]\n",
    "    ) -> Tuple[List[Tuple], List[Tuple]]:\n",
    "        x = np.tile(query_tokens_parts, (len(candidates_vectors), 1))\n",
    "        y = np.array(candidates_vectors, dtype=tuple).repeat(len(query_tokens_parts), 0)\n",
    "        return x, y\n",
    "\n",
    "    @profiler.scope_controller(\"default\")\n",
    "    def resolve_intent_recommendations(\n",
    "            self,\n",
    "            query: str,\n",
    "            apps_configuration: AppsConfiguration,\n",
    "            system_configuration: SystemConfiguration,\n",
    "            session_configurations: SessionConfiguration\n",
    "    ):\n",
    "        with profiler.profile_code(\"default\", \"ensure_indexed\"):\n",
    "            self.indexer.ensure_indexed(apps_configuration.applications)\n",
    "\n",
    "        query = self.indexer.clear_string(query)\n",
    "        query_parts = query.split(\" \")\n",
    "\n",
    "        query_tokens = self.indexer.word_2_vec_mapper(query)\n",
    "        variants = self._spawn_variants(\n",
    "            list(range(len(query_parts))),\n",
    "            min(self._min_query_ngram_size, len(query_parts) - 1),\n",
    "            min(self._max_query_ngram_size, len(query_parts) - 1)\n",
    "        )\n",
    "\n",
    "        query_tokens_parts, candidates_vectors = self.get_cartesian_product(\n",
    "            [(v, query_tokens[v[0]: v[1] + 1].vector) for v in variants],\n",
    "             self.get_candidates_vectors(apps_configuration)\n",
    "        )\n",
    "\n",
    "        with profiler.profile_code(\"default\", \"rest\"):\n",
    "            query_parts_indices, query_parts_vectors = query_tokens_parts[::, 0], query_tokens_parts[::, 1]\n",
    "            candidates_vectors_indices, candidates_vectors_vectors = candidates_vectors[::, 0], candidates_vectors[::, 1]\n",
    "\n",
    "            query_parts_vectors = np.array(list(map(lambda x: list(x), query_parts_vectors)))\n",
    "            candidates_vectors_vectors = np.array(list(map(lambda x: list(x), candidates_vectors_vectors)))\n",
    "\n",
    "            similarities = self.pairwise_cosine_similarity(query_parts_vectors, candidates_vectors_vectors)\n",
    "\n",
    "            grouping = defaultdict(lambda: [[]] * len(query_parts))\n",
    "            for query_part_indices, candidate_id, similarity in zip(\n",
    "                    query_parts_indices, candidates_vectors_indices, similarities):\n",
    "                for i in range(query_part_indices[0], query_part_indices[1] + 1):\n",
    "                    grouping[candidate_id][i].append(similarity)\n",
    "\n",
    "            functions_mapping = {}\n",
    "            for app in apps_configuration.applications:\n",
    "                for func in app.functions:\n",
    "                    functions_mapping[func.get_identifier()] = func\n",
    "\n",
    "            for identifier, func in functions_mapping.items():\n",
    "                if func.application and func.application.get_identifier() in grouping:\n",
    "                    for i in range(len(query_parts)):\n",
    "                        grouping[identifier][i] += grouping[func.application.get_identifier()][i]\n",
    "\n",
    "            priorities = {key: [sum(d) / len(d) for d in dist] for key, dist in grouping.items()}\n",
    "\n",
    "        for key, dist in sorted(priorities.items(), key=lambda x: sum(x[1]) / len(x[1]), reverse=True):\n",
    "            print(key, dist)"
   ],
   "metadata": {
    "collapsed": false,
    "pycharm": {
     "name": "#%%\n"
    }
   }
  },
  {
   "cell_type": "code",
   "execution_count": 10,
   "outputs": [
    {
     "name": "stdout",
     "output_type": "stream",
     "text": [
      "telegram.unread_messages [0.3918569024344795, 0.3918569024344795, 0.3918569024344795, 0.3918569024344795, 0.3918569024344795, 0.3918569024344795, 0.3918569024344795, 0.3918569024344795, 0.3918569024344795]\n",
      "telegram.send_message [0.3915675294782082, 0.3915675294782082, 0.3915675294782082, 0.3915675294782082, 0.3915675294782082, 0.3915675294782082, 0.3915675294782082, 0.3915675294782082, 0.3915675294782082]\n",
      "telegram [0.37843263112902775, 0.37843263112902775, 0.37843263112902775, 0.37843263112902775, 0.37843263112902775, 0.37843263112902775, 0.37843263112902775, 0.37843263112902775, 0.37843263112902775]\n",
      "email.unread_mails [0.37772105157954117, 0.37772105157954117, 0.37772105157954117, 0.37772105157954117, 0.37772105157954117, 0.37772105157954117, 0.37772105157954117, 0.37772105157954117, 0.37772105157954117]\n",
      "email.send_mail [0.3732615831842059, 0.3732615831842059, 0.3732615831842059, 0.3732615831842059, 0.3732615831842059, 0.3732615831842059, 0.3732615831842059, 0.3732615831842059, 0.3732615831842059]\n",
      "app_windows_management.minimize_window [0.36443635031742894, 0.36443635031742894, 0.36443635031742894, 0.36443635031742894, 0.36443635031742894, 0.36443635031742894, 0.36443635031742894, 0.36443635031742894, 0.36443635031742894]\n",
      "app_windows_management.open_window [0.3628720361840628, 0.3628720361840628, 0.3628720361840628, 0.3628720361840628, 0.3628720361840628, 0.3628720361840628, 0.3628720361840628, 0.3628720361840628, 0.3628720361840628]\n",
      "email [0.3597148094820601, 0.3597148094820601, 0.3597148094820601, 0.3597148094820601, 0.3597148094820601, 0.3597148094820601, 0.3597148094820601, 0.3597148094820601, 0.3597148094820601]\n",
      "app_windows_management [0.3580810474096865, 0.3580810474096865, 0.3580810474096865, 0.3580810474096865, 0.3580810474096865, 0.3580810474096865, 0.3580810474096865, 0.3580810474096865, 0.3580810474096865]\n",
      "pc_system.set_sound_level [0.34609589500578825, 0.34609589500578825, 0.34609589500578825, 0.34609589500578825, 0.34609589500578825, 0.34609589500578825, 0.34609589500578825, 0.34609589500578825, 0.34609589500578825]\n",
      "pc_system.sound_up [0.34373234121128915, 0.34373234121128915, 0.34373234121128915, 0.34373234121128915, 0.34373234121128915, 0.34373234121128915, 0.34373234121128915, 0.34373234121128915, 0.34373234121128915]\n",
      "pc_system.set_brightness [0.3409619222005384, 0.3409619222005384, 0.3409619222005384, 0.3409619222005384, 0.3409619222005384, 0.3409619222005384, 0.3409619222005384, 0.3409619222005384, 0.3409619222005384]\n",
      "pc_system.sound_down [0.3405677327736402, 0.3405677327736402, 0.3405677327736402, 0.3405677327736402, 0.3405677327736402, 0.3405677327736402, 0.3405677327736402, 0.3405677327736402, 0.3405677327736402]\n",
      "pc_system [0.3383688809188164, 0.3383688809188164, 0.3383688809188164, 0.3383688809188164, 0.3383688809188164, 0.3383688809188164, 0.3383688809188164, 0.3383688809188164, 0.3383688809188164]\n",
      "pc_system.brightness_up [0.33594406815287065, 0.33594406815287065, 0.33594406815287065, 0.33594406815287065, 0.33594406815287065, 0.33594406815287065, 0.33594406815287065, 0.33594406815287065, 0.33594406815287065]\n",
      "pc_system.brightness_down [0.33505663501731753, 0.33505663501731753, 0.33505663501731753, 0.33505663501731753, 0.33505663501731753, 0.33505663501731753, 0.33505663501731753, 0.33505663501731753, 0.33505663501731753]\n",
      "pc_system.mute_sound [0.33075384057673984, 0.33075384057673984, 0.33075384057673984, 0.33075384057673984, 0.33075384057673984, 0.33075384057673984, 0.33075384057673984, 0.33075384057673984, 0.33075384057673984]\n",
      "calendar.list [0.326705844027967, 0.326705844027967, 0.326705844027967, 0.326705844027967, 0.326705844027967, 0.326705844027967, 0.326705844027967, 0.326705844027967, 0.326705844027967]\n",
      "user_custom_statistics.increase_counter [0.312054815896795, 0.312054815896795, 0.312054815896795, 0.312054815896795, 0.312054815896795, 0.312054815896795, 0.312054815896795, 0.312054815896795, 0.312054815896795]\n",
      "user_custom_statistics.decrease_counter [0.31041166772163287, 0.31041166772163287, 0.31041166772163287, 0.31041166772163287, 0.31041166772163287, 0.31041166772163287, 0.31041166772163287, 0.31041166772163287, 0.31041166772163287]\n",
      "calendar [0.3088990550731187, 0.3088990550731187, 0.3088990550731187, 0.3088990550731187, 0.3088990550731187, 0.3088990550731187, 0.3088990550731187, 0.3088990550731187, 0.3088990550731187]\n",
      "user_custom_statistics.show_statistics [0.30330937246539114, 0.30330937246539114, 0.30330937246539114, 0.30330937246539114, 0.30330937246539114, 0.30330937246539114, 0.30330937246539114, 0.30330937246539114, 0.30330937246539114]\n",
      "user_custom_statistics [0.29943908429519017, 0.29943908429519017, 0.29943908429519017, 0.29943908429519017, 0.29943908429519017, 0.29943908429519017, 0.29943908429519017, 0.29943908429519017, 0.29943908429519017]\n",
      "alarm_clock.start_new [0.29138682641433145, 0.29138682641433145, 0.29138682641433145, 0.29138682641433145, 0.29138682641433145, 0.29138682641433145, 0.29138682641433145, 0.29138682641433145, 0.29138682641433145]\n",
      "alarm_clock.shew_nearest [0.28220550247257753, 0.28220550247257753, 0.28220550247257753, 0.28220550247257753, 0.28220550247257753, 0.28220550247257753, 0.28220550247257753, 0.28220550247257753, 0.28220550247257753]\n",
      "shortcuts.press_shortcut [0.27615605350815176, 0.27615605350815176, 0.27615605350815176, 0.27615605350815176, 0.27615605350815176, 0.27615605350815176, 0.27615605350815176, 0.27615605350815176, 0.27615605350815176]\n",
      "alarm_clock.list [0.270300782220843, 0.270300782220843, 0.270300782220843, 0.270300782220843, 0.270300782220843, 0.270300782220843, 0.270300782220843, 0.270300782220843, 0.270300782220843]\n",
      "shortcuts [0.2686319983280871, 0.2686319983280871, 0.2686319983280871, 0.2686319983280871, 0.2686319983280871, 0.2686319983280871, 0.2686319983280871, 0.2686319983280871, 0.2686319983280871]\n",
      "alarm_clock [0.2626527533259081, 0.2626527533259081, 0.2626527533259081, 0.2626527533259081, 0.2626527533259081, 0.2626527533259081, 0.2626527533259081, 0.2626527533259081, 0.2626527533259081]\n",
      "timer.start_new [0.24781059279880818, 0.24781059279880818, 0.24781059279880818, 0.24781059279880818, 0.24781059279880818, 0.24781059279880818, 0.24781059279880818, 0.24781059279880818, 0.24781059279880818]\n",
      "timer.list [0.22824934196004024, 0.22824934196004024, 0.22824934196004024, 0.22824934196004024, 0.22824934196004024, 0.22824934196004024, 0.22824934196004024, 0.22824934196004024, 0.22824934196004024]\n",
      "timer.disable_all [0.22102734094895787, 0.22102734094895787, 0.22102734094895787, 0.22102734094895787, 0.22102734094895787, 0.22102734094895787, 0.22102734094895787, 0.22102734094895787, 0.22102734094895787]\n",
      "stopwatch.start_new [0.2149491244130265, 0.2149491244130265, 0.2149491244130265, 0.2149491244130265, 0.2149491244130265, 0.2149491244130265, 0.2149491244130265, 0.2149491244130265, 0.2149491244130265]\n",
      "timer [0.19828861984221832, 0.19828861984221832, 0.19828861984221832, 0.19828861984221832, 0.19828861984221832, 0.19828861984221832, 0.19828861984221832, 0.19828861984221832, 0.19828861984221832]\n",
      "stopwatch [0.19828861984221832, 0.19828861984221832, 0.19828861984221832, 0.19828861984221832, 0.19828861984221832, 0.19828861984221832, 0.19828861984221832, 0.19828861984221832, 0.19828861984221832]\n"
     ]
    }
   ],
   "source": [
    "intent_resolver = IntentResolver(indexer)\n",
    "intent_resolver.resolve_intent_recommendations(\n",
    "    \"Send Ann a message 'Buy some potato' with Telegram\",\n",
    "    apps_config_factory(),\n",
    "    None, None\n",
    ")"
   ],
   "metadata": {
    "collapsed": false,
    "pycharm": {
     "name": "#%%\n"
    }
   }
  },
  {
   "cell_type": "code",
   "execution_count": 11,
   "outputs": [
    {
     "name": "stdout",
     "output_type": "stream",
     "text": [
      "=== Scope 'default' ===\n",
      "--- resolve_intent_recommendations ---\n",
      "called:\n",
      "    count(1.000000000)\n",
      "    avg(1.0)/session\n",
      "execution time\n",
      "    sum(1.455601931)\n",
      "    avg(1.455601931)/session\n",
      "    avg(1.455601931)/call\n",
      "\n",
      "--- ensure_indexed ---\n",
      "called:\n",
      "    count(1.000000000)\n",
      "    avg(1.0)/session\n",
      "execution time\n",
      "    sum(1.010313988)\n",
      "    avg(1.010313988)/session\n",
      "    avg(1.010313988)/call\n",
      "\n",
      "--- _spawn_variants ---\n",
      "called:\n",
      "    count(1.000000000)\n",
      "    avg(1.0)/session\n",
      "execution time\n",
      "    sum(0.000005960)\n",
      "    avg(0.000005960)/session\n",
      "    avg(0.000005960)/call\n",
      "\n",
      "--- get_candidates_vectors ---\n",
      "called:\n",
      "    count(1.000000000)\n",
      "    avg(1.0)/session\n",
      "execution time\n",
      "    sum(0.000095367)\n",
      "    avg(0.000095367)/session\n",
      "    avg(0.000095367)/call\n",
      "\n",
      "--- get_cartesian_product ---\n",
      "called:\n",
      "    count(1.000000000)\n",
      "    avg(1.0)/session\n",
      "execution time\n",
      "    sum(0.000181198)\n",
      "    avg(0.000181198)/session\n",
      "    avg(0.000181198)/call\n",
      "\n",
      "--- rest ---\n",
      "called:\n",
      "    count(1.000000000)\n",
      "    avg(1.0)/session\n",
      "execution time\n",
      "    sum(0.437892914)\n",
      "    avg(0.437892914)/session\n",
      "    avg(0.437892914)/call\n",
      "\n",
      "--- pairwise_cosine_similarity ---\n",
      "called:\n",
      "    count(1.000000000)\n",
      "    avg(1.0)/session\n",
      "execution time\n",
      "    sum(0.003373623)\n",
      "    avg(0.003373623)/session\n",
      "    avg(0.003373623)/call\n",
      "\n"
     ]
    }
   ],
   "source": [
    "profiler.visualize_aggregated()"
   ],
   "metadata": {
    "collapsed": false,
    "pycharm": {
     "name": "#%%\n"
    }
   }
  },
  {
   "cell_type": "code",
   "execution_count": 7,
   "outputs": [],
   "source": [],
   "metadata": {
    "collapsed": false,
    "pycharm": {
     "name": "#%%\n"
    }
   }
  },
  {
   "cell_type": "code",
   "execution_count": 7,
   "outputs": [],
   "source": [],
   "metadata": {
    "collapsed": false,
    "pycharm": {
     "name": "#%%\n"
    }
   }
  },
  {
   "cell_type": "code",
   "execution_count": 7,
   "outputs": [],
   "source": [],
   "metadata": {
    "collapsed": false,
    "pycharm": {
     "name": "#%%\n"
    }
   }
  },
  {
   "cell_type": "code",
   "execution_count": null,
   "outputs": [],
   "source": [],
   "metadata": {
    "collapsed": false,
    "pycharm": {
     "name": "#%%\n"
    }
   }
  }
 ],
 "metadata": {
  "kernelspec": {
   "display_name": "Python 3",
   "language": "python",
   "name": "python3"
  },
  "language_info": {
   "codemirror_mode": {
    "name": "ipython",
    "version": 2
   },
   "file_extension": ".py",
   "mimetype": "text/x-python",
   "name": "python",
   "nbconvert_exporter": "python",
   "pygments_lexer": "ipython2",
   "version": "2.7.6"
  }
 },
 "nbformat": 4,
 "nbformat_minor": 0
}